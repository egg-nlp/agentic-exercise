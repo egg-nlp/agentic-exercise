{
 "cells": [
  {
   "cell_type": "code",
   "execution_count": 5,
   "metadata": {},
   "outputs": [],
   "source": [
    "import duckdb\n",
    "import pandas as pd"
   ]
  },
  {
   "cell_type": "code",
   "execution_count": 6,
   "metadata": {},
   "outputs": [],
   "source": [
    "sample_df = pd.read_parquet(\"data/sample.dataset.parquet\")"
   ]
  },
  {
   "cell_type": "code",
   "execution_count": 7,
   "metadata": {},
   "outputs": [
    {
     "data": {
      "text/plain": [
       "┌─────────────┬──────────┬─────────────────────┬───────┬─────────────┬──────────────────┬────────────────┬────────────────┬─────────────────────┬─────────────────────┬───────────────────────────────────┬──────────────────────────────┬───────────────────────┬───────────────┬─────────────┬─────────────────┬────────────────────┬────────────────────┬────────────────────────────────────┬────────────────────┬────────────────────┐\n",
       "│   Format    │ Promo ID │ Mechanic Full Name  │  RSP  │ Promo Price │ Promo Start Date │ Promo End Date │ Overall Rating │ Sales Uplift Rating │ Visit Uplift Rating │ Sales Uplift over Category Rating │          Promo Name          │   List of Subclass    │ List of Brand │ Promo Sales │ NPD Promo Sales │     Base Sales     │    Sales Uplift    │ Sales Uplift Per Day Per Promotion │   Markdown Cost    │        SCR         │\n",
       "│   varchar   │  int64   │       varchar       │ int64 │   double    │     varchar      │    varchar     │    varchar     │       boolean       │       boolean       │              boolean              │           varchar            │        varchar        │    varchar    │   double    │     double      │       double       │       double       │               double               │       double       │       double       │\n",
       "├─────────────┼──────────┼─────────────────────┼───────┼─────────────┼──────────────────┼────────────────┼────────────────┼─────────────────────┼─────────────────────┼───────────────────────────────────┼──────────────────────────────┼───────────────────────┼───────────────┼─────────────┼─────────────────┼────────────────────┼────────────────────┼────────────────────────────────────┼────────────────────┼────────────────────┤\n",
       "│ Hypermarket │      187 │ 2Offer - Pay 36.00  │    20 │        18.0 │ 2024-04-17       │ 2024-05-21     │ fair           │ true                │ false               │ true                              │ TEA POT Not Included | 0     │ SWEET                 │ TEA POT       │    417351.0 │             0.0 │  374273.0500000001 │  43077.95000000003 │                 1230.7985714285724 │            44220.0 │  0.974173450927183 │\n",
       "│ Hypermarket │      213 │ 2Offer - Pay 105.00 │    58 │        52.5 │ 2024-10-23       │ 2024-11-12     │ best           │ true                │ true                │ true                              │ SMART HEART 0 | 0            │ DOG-WET               │ SMART HEART   │    286104.0 │             0.0 │ 172480.40999999997 │ 113623.59000000004 │                  5410.647142857143 │          29993.772 │  3.788239438507435 │\n",
       "│ Hypermarket │      368 │ Saving - Pay 915.00 │  1020 │       915.0 │ 2024-10-02       │ 2024-10-08     │ reject         │ false               │ false               │ false                             │ NESTLE BOOST 800 G | 0       │ ADULT FOOD SUPPLEMENT │ NESTLE BOOST  │    226944.5 │             0.0 │ 260725.34000000003 │ -33780.84000000001 │                 -4825.834285714287 │ 26239.499999999996 │ -1.287404104498943 │\n",
       "│ Hypermarket │      371 │ Saving - Pay 199.00 │   239 │       199.0 │ 2024-01-24       │ 2024-02-20     │ best           │ true                │ true                │ true                              │ COCOA DUTCH 201-500 G | 0    │ TONIC                 │ COCOA DUTCH   │   671665.25 │             0.0 │ 269687.04000000004 │ 401978.20999999996 │                 14356.364642857141 │ 135029.02500000002 │ 2.9769763204614703 │\n",
       "│ Hypermarket │      381 │ Saving - Pay 35.00  │    43 │        35.0 │ 2024-04-29       │ 2024-05-21     │ best           │ true                │ true                │ true                              │ ROZA 660 G | 0               │ OYSTER SAUCE          │ ROZA          │    227198.5 │             0.0 │  79581.31999999999 │ 147617.18000000002 │                  6418.138260869566 │  51971.00400000001 │ 2.8403757602989543 │\n",
       "└─────────────┴──────────┴─────────────────────┴───────┴─────────────┴──────────────────┴────────────────┴────────────────┴─────────────────────┴─────────────────────┴───────────────────────────────────┴──────────────────────────────┴───────────────────────┴───────────────┴─────────────┴─────────────────┴────────────────────┴────────────────────┴────────────────────────────────────┴────────────────────┴────────────────────┘"
      ]
     },
     "execution_count": 7,
     "metadata": {},
     "output_type": "execute_result"
    }
   ],
   "source": [
    "duckdb.sql(\"CREATE TABLE sample_data AS SELECT * FROM sample_df\")\n",
    "duckdb.sql(\"INSERT INTO sample_data SELECT * FROM sample_df\")\n",
    "\n",
    "sample_data = duckdb.sql(\"SELECT * FROM sample_data LIMIT 5\")\n",
    "sample_data"
   ]
  }
 ],
 "metadata": {
  "kernelspec": {
   "display_name": ".venv",
   "language": "python",
   "name": "python3"
  },
  "language_info": {
   "codemirror_mode": {
    "name": "ipython",
    "version": 3
   },
   "file_extension": ".py",
   "mimetype": "text/x-python",
   "name": "python",
   "nbconvert_exporter": "python",
   "pygments_lexer": "ipython3",
   "version": "3.13.1"
  }
 },
 "nbformat": 4,
 "nbformat_minor": 2
}
